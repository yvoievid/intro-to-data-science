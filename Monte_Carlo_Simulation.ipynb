{
  "cells": [
    {
      "cell_type": "code",
      "execution_count": 1,
      "metadata": {
        "id": "rRcvcpNxvF-g"
      },
      "outputs": [],
      "source": [
        "import numpy as np\n",
        "import matplotlib.pyplot as plt\n",
        "import pandas as pd\n",
        "import scipy.stats as stats\n",
        "import seaborn as sns"
      ]
    },
    {
      "cell_type": "code",
      "execution_count": 2,
      "metadata": {
        "id": "VvaIhBMDvJrV"
      },
      "outputs": [],
      "source": [
        "salaries = pd.read_csv('salary_2021_2023.csv')"
      ]
    },
    {
      "cell_type": "code",
      "execution_count": 3,
      "metadata": {
        "colab": {
          "base_uri": "https://localhost:8080/",
          "height": 520
        },
        "id": "DYQGJTL-vOk8",
        "outputId": "d1c94f11-b156-434c-a156-d7512e6b3933"
      },
      "outputs": [
        {
          "data": {
            "text/html": [
              "<div>\n",
              "<style scoped>\n",
              "    .dataframe tbody tr th:only-of-type {\n",
              "        vertical-align: middle;\n",
              "    }\n",
              "\n",
              "    .dataframe tbody tr th {\n",
              "        vertical-align: top;\n",
              "    }\n",
              "\n",
              "    .dataframe thead th {\n",
              "        text-align: right;\n",
              "    }\n",
              "</style>\n",
              "<table border=\"1\" class=\"dataframe\">\n",
              "  <thead>\n",
              "    <tr style=\"text-align: right;\">\n",
              "      <th></th>\n",
              "      <th>work_year</th>\n",
              "      <th>experience_level</th>\n",
              "      <th>employment_type</th>\n",
              "      <th>job_title</th>\n",
              "      <th>salary</th>\n",
              "      <th>salary_currency</th>\n",
              "      <th>salary_in_usd</th>\n",
              "      <th>company_location</th>\n",
              "      <th>company_size</th>\n",
              "    </tr>\n",
              "  </thead>\n",
              "  <tbody>\n",
              "    <tr>\n",
              "      <th>0</th>\n",
              "      <td>2023</td>\n",
              "      <td>EN</td>\n",
              "      <td>FT</td>\n",
              "      <td>Applied Scientist</td>\n",
              "      <td>213660</td>\n",
              "      <td>USD</td>\n",
              "      <td>213660</td>\n",
              "      <td>US</td>\n",
              "      <td>L</td>\n",
              "    </tr>\n",
              "    <tr>\n",
              "      <th>1</th>\n",
              "      <td>2023</td>\n",
              "      <td>EN</td>\n",
              "      <td>FT</td>\n",
              "      <td>Applied Scientist</td>\n",
              "      <td>130760</td>\n",
              "      <td>USD</td>\n",
              "      <td>130760</td>\n",
              "      <td>US</td>\n",
              "      <td>L</td>\n",
              "    </tr>\n",
              "    <tr>\n",
              "      <th>2</th>\n",
              "      <td>2023</td>\n",
              "      <td>EN</td>\n",
              "      <td>FT</td>\n",
              "      <td>Data Quality Analyst</td>\n",
              "      <td>100000</td>\n",
              "      <td>USD</td>\n",
              "      <td>100000</td>\n",
              "      <td>NG</td>\n",
              "      <td>L</td>\n",
              "    </tr>\n",
              "    <tr>\n",
              "      <th>3</th>\n",
              "      <td>2023</td>\n",
              "      <td>EN</td>\n",
              "      <td>FT</td>\n",
              "      <td>Compliance Data Analyst</td>\n",
              "      <td>30000</td>\n",
              "      <td>USD</td>\n",
              "      <td>30000</td>\n",
              "      <td>NG</td>\n",
              "      <td>L</td>\n",
              "    </tr>\n",
              "    <tr>\n",
              "      <th>4</th>\n",
              "      <td>2023</td>\n",
              "      <td>EN</td>\n",
              "      <td>FT</td>\n",
              "      <td>Applied Scientist</td>\n",
              "      <td>204620</td>\n",
              "      <td>USD</td>\n",
              "      <td>204620</td>\n",
              "      <td>US</td>\n",
              "      <td>L</td>\n",
              "    </tr>\n",
              "    <tr>\n",
              "      <th>5</th>\n",
              "      <td>2023</td>\n",
              "      <td>EN</td>\n",
              "      <td>FT</td>\n",
              "      <td>Applied Scientist</td>\n",
              "      <td>110680</td>\n",
              "      <td>USD</td>\n",
              "      <td>110680</td>\n",
              "      <td>US</td>\n",
              "      <td>L</td>\n",
              "    </tr>\n",
              "    <tr>\n",
              "      <th>6</th>\n",
              "      <td>2023</td>\n",
              "      <td>EN</td>\n",
              "      <td>FT</td>\n",
              "      <td>Machine Learning Engineer</td>\n",
              "      <td>163196</td>\n",
              "      <td>USD</td>\n",
              "      <td>163196</td>\n",
              "      <td>US</td>\n",
              "      <td>M</td>\n",
              "    </tr>\n",
              "    <tr>\n",
              "      <th>7</th>\n",
              "      <td>2023</td>\n",
              "      <td>EN</td>\n",
              "      <td>FT</td>\n",
              "      <td>Machine Learning Engineer</td>\n",
              "      <td>145885</td>\n",
              "      <td>USD</td>\n",
              "      <td>145885</td>\n",
              "      <td>US</td>\n",
              "      <td>M</td>\n",
              "    </tr>\n",
              "    <tr>\n",
              "      <th>8</th>\n",
              "      <td>2023</td>\n",
              "      <td>EN</td>\n",
              "      <td>FT</td>\n",
              "      <td>Research Scientist</td>\n",
              "      <td>220000</td>\n",
              "      <td>USD</td>\n",
              "      <td>220000</td>\n",
              "      <td>US</td>\n",
              "      <td>L</td>\n",
              "    </tr>\n",
              "    <tr>\n",
              "      <th>9</th>\n",
              "      <td>2023</td>\n",
              "      <td>EN</td>\n",
              "      <td>FT</td>\n",
              "      <td>Data Engineer</td>\n",
              "      <td>85000</td>\n",
              "      <td>USD</td>\n",
              "      <td>85000</td>\n",
              "      <td>US</td>\n",
              "      <td>M</td>\n",
              "    </tr>\n",
              "    <tr>\n",
              "      <th>10</th>\n",
              "      <td>2023</td>\n",
              "      <td>EN</td>\n",
              "      <td>FT</td>\n",
              "      <td>Data Engineer</td>\n",
              "      <td>65000</td>\n",
              "      <td>USD</td>\n",
              "      <td>65000</td>\n",
              "      <td>US</td>\n",
              "      <td>M</td>\n",
              "    </tr>\n",
              "    <tr>\n",
              "      <th>11</th>\n",
              "      <td>2023</td>\n",
              "      <td>EN</td>\n",
              "      <td>FT</td>\n",
              "      <td>Data Analyst</td>\n",
              "      <td>75000</td>\n",
              "      <td>USD</td>\n",
              "      <td>75000</td>\n",
              "      <td>US</td>\n",
              "      <td>M</td>\n",
              "    </tr>\n",
              "    <tr>\n",
              "      <th>12</th>\n",
              "      <td>2023</td>\n",
              "      <td>EN</td>\n",
              "      <td>FT</td>\n",
              "      <td>Data Analyst</td>\n",
              "      <td>70000</td>\n",
              "      <td>USD</td>\n",
              "      <td>70000</td>\n",
              "      <td>US</td>\n",
              "      <td>M</td>\n",
              "    </tr>\n",
              "    <tr>\n",
              "      <th>13</th>\n",
              "      <td>2023</td>\n",
              "      <td>EN</td>\n",
              "      <td>FT</td>\n",
              "      <td>Data Analyst</td>\n",
              "      <td>85000</td>\n",
              "      <td>USD</td>\n",
              "      <td>85000</td>\n",
              "      <td>US</td>\n",
              "      <td>M</td>\n",
              "    </tr>\n",
              "    <tr>\n",
              "      <th>14</th>\n",
              "      <td>2023</td>\n",
              "      <td>EN</td>\n",
              "      <td>FT</td>\n",
              "      <td>Data Analyst</td>\n",
              "      <td>75000</td>\n",
              "      <td>USD</td>\n",
              "      <td>75000</td>\n",
              "      <td>US</td>\n",
              "      <td>M</td>\n",
              "    </tr>\n",
              "  </tbody>\n",
              "</table>\n",
              "</div>"
            ],
            "text/plain": [
              "    work_year experience_level employment_type                  job_title  \\\n",
              "0        2023               EN              FT          Applied Scientist   \n",
              "1        2023               EN              FT          Applied Scientist   \n",
              "2        2023               EN              FT       Data Quality Analyst   \n",
              "3        2023               EN              FT    Compliance Data Analyst   \n",
              "4        2023               EN              FT          Applied Scientist   \n",
              "5        2023               EN              FT          Applied Scientist   \n",
              "6        2023               EN              FT  Machine Learning Engineer   \n",
              "7        2023               EN              FT  Machine Learning Engineer   \n",
              "8        2023               EN              FT         Research Scientist   \n",
              "9        2023               EN              FT              Data Engineer   \n",
              "10       2023               EN              FT              Data Engineer   \n",
              "11       2023               EN              FT               Data Analyst   \n",
              "12       2023               EN              FT               Data Analyst   \n",
              "13       2023               EN              FT               Data Analyst   \n",
              "14       2023               EN              FT               Data Analyst   \n",
              "\n",
              "    salary salary_currency  salary_in_usd company_location company_size  \n",
              "0   213660             USD         213660               US            L  \n",
              "1   130760             USD         130760               US            L  \n",
              "2   100000             USD         100000               NG            L  \n",
              "3    30000             USD          30000               NG            L  \n",
              "4   204620             USD         204620               US            L  \n",
              "5   110680             USD         110680               US            L  \n",
              "6   163196             USD         163196               US            M  \n",
              "7   145885             USD         145885               US            M  \n",
              "8   220000             USD         220000               US            L  \n",
              "9    85000             USD          85000               US            M  \n",
              "10   65000             USD          65000               US            M  \n",
              "11   75000             USD          75000               US            M  \n",
              "12   70000             USD          70000               US            M  \n",
              "13   85000             USD          85000               US            M  \n",
              "14   75000             USD          75000               US            M  "
            ]
          },
          "execution_count": 3,
          "metadata": {},
          "output_type": "execute_result"
        }
      ],
      "source": [
        "salaries.head(15)"
      ]
    },
    {
      "cell_type": "code",
      "execution_count": 4,
      "metadata": {
        "id": "1FRE6YB_vc5i"
      },
      "outputs": [],
      "source": [
        "machine_learning_engineers = salaries[salaries['job_title'] == 'Machine Learning Engineer']"
      ]
    },
    {
      "cell_type": "code",
      "execution_count": 5,
      "metadata": {
        "colab": {
          "base_uri": "https://localhost:8080/",
          "height": 424
        },
        "id": "jIWtiZJmPuNJ",
        "outputId": "17e09ba7-721e-4d9e-cc4a-35d8fdd409be"
      },
      "outputs": [
        {
          "data": {
            "text/html": [
              "<div>\n",
              "<style scoped>\n",
              "    .dataframe tbody tr th:only-of-type {\n",
              "        vertical-align: middle;\n",
              "    }\n",
              "\n",
              "    .dataframe tbody tr th {\n",
              "        vertical-align: top;\n",
              "    }\n",
              "\n",
              "    .dataframe thead th {\n",
              "        text-align: right;\n",
              "    }\n",
              "</style>\n",
              "<table border=\"1\" class=\"dataframe\">\n",
              "  <thead>\n",
              "    <tr style=\"text-align: right;\">\n",
              "      <th></th>\n",
              "      <th>work_year</th>\n",
              "      <th>experience_level</th>\n",
              "      <th>employment_type</th>\n",
              "      <th>job_title</th>\n",
              "      <th>salary</th>\n",
              "      <th>salary_currency</th>\n",
              "      <th>salary_in_usd</th>\n",
              "      <th>company_location</th>\n",
              "      <th>company_size</th>\n",
              "    </tr>\n",
              "  </thead>\n",
              "  <tbody>\n",
              "    <tr>\n",
              "      <th>3759</th>\n",
              "      <td>2020</td>\n",
              "      <td>SE</td>\n",
              "      <td>FT</td>\n",
              "      <td>Machine Learning Engineer</td>\n",
              "      <td>40000</td>\n",
              "      <td>EUR</td>\n",
              "      <td>45618</td>\n",
              "      <td>HR</td>\n",
              "      <td>S</td>\n",
              "    </tr>\n",
              "    <tr>\n",
              "      <th>3691</th>\n",
              "      <td>2020</td>\n",
              "      <td>EN</td>\n",
              "      <td>FT</td>\n",
              "      <td>Machine Learning Engineer</td>\n",
              "      <td>250000</td>\n",
              "      <td>USD</td>\n",
              "      <td>250000</td>\n",
              "      <td>US</td>\n",
              "      <td>L</td>\n",
              "    </tr>\n",
              "    <tr>\n",
              "      <th>3749</th>\n",
              "      <td>2020</td>\n",
              "      <td>SE</td>\n",
              "      <td>FT</td>\n",
              "      <td>Machine Learning Engineer</td>\n",
              "      <td>150000</td>\n",
              "      <td>USD</td>\n",
              "      <td>150000</td>\n",
              "      <td>US</td>\n",
              "      <td>L</td>\n",
              "    </tr>\n",
              "    <tr>\n",
              "      <th>3693</th>\n",
              "      <td>2020</td>\n",
              "      <td>EN</td>\n",
              "      <td>FT</td>\n",
              "      <td>Machine Learning Engineer</td>\n",
              "      <td>138000</td>\n",
              "      <td>USD</td>\n",
              "      <td>138000</td>\n",
              "      <td>US</td>\n",
              "      <td>S</td>\n",
              "    </tr>\n",
              "    <tr>\n",
              "      <th>3670</th>\n",
              "      <td>2021</td>\n",
              "      <td>SE</td>\n",
              "      <td>FT</td>\n",
              "      <td>Machine Learning Engineer</td>\n",
              "      <td>200000</td>\n",
              "      <td>USD</td>\n",
              "      <td>200000</td>\n",
              "      <td>US</td>\n",
              "      <td>L</td>\n",
              "    </tr>\n",
              "    <tr>\n",
              "      <th>...</th>\n",
              "      <td>...</td>\n",
              "      <td>...</td>\n",
              "      <td>...</td>\n",
              "      <td>...</td>\n",
              "      <td>...</td>\n",
              "      <td>...</td>\n",
              "      <td>...</td>\n",
              "      <td>...</td>\n",
              "      <td>...</td>\n",
              "    </tr>\n",
              "    <tr>\n",
              "      <th>1189</th>\n",
              "      <td>2023</td>\n",
              "      <td>SE</td>\n",
              "      <td>FT</td>\n",
              "      <td>Machine Learning Engineer</td>\n",
              "      <td>204500</td>\n",
              "      <td>USD</td>\n",
              "      <td>204500</td>\n",
              "      <td>US</td>\n",
              "      <td>M</td>\n",
              "    </tr>\n",
              "    <tr>\n",
              "      <th>1183</th>\n",
              "      <td>2023</td>\n",
              "      <td>SE</td>\n",
              "      <td>FT</td>\n",
              "      <td>Machine Learning Engineer</td>\n",
              "      <td>142200</td>\n",
              "      <td>USD</td>\n",
              "      <td>142200</td>\n",
              "      <td>US</td>\n",
              "      <td>M</td>\n",
              "    </tr>\n",
              "    <tr>\n",
              "      <th>1182</th>\n",
              "      <td>2023</td>\n",
              "      <td>SE</td>\n",
              "      <td>FT</td>\n",
              "      <td>Machine Learning Engineer</td>\n",
              "      <td>204500</td>\n",
              "      <td>USD</td>\n",
              "      <td>204500</td>\n",
              "      <td>US</td>\n",
              "      <td>M</td>\n",
              "    </tr>\n",
              "    <tr>\n",
              "      <th>1038</th>\n",
              "      <td>2023</td>\n",
              "      <td>SE</td>\n",
              "      <td>FT</td>\n",
              "      <td>Machine Learning Engineer</td>\n",
              "      <td>161000</td>\n",
              "      <td>GBP</td>\n",
              "      <td>195652</td>\n",
              "      <td>GB</td>\n",
              "      <td>M</td>\n",
              "    </tr>\n",
              "    <tr>\n",
              "      <th>1506</th>\n",
              "      <td>2023</td>\n",
              "      <td>SE</td>\n",
              "      <td>FT</td>\n",
              "      <td>Machine Learning Engineer</td>\n",
              "      <td>184000</td>\n",
              "      <td>USD</td>\n",
              "      <td>184000</td>\n",
              "      <td>US</td>\n",
              "      <td>M</td>\n",
              "    </tr>\n",
              "  </tbody>\n",
              "</table>\n",
              "<p>291 rows × 9 columns</p>\n",
              "</div>"
            ],
            "text/plain": [
              "      work_year experience_level employment_type                  job_title  \\\n",
              "3759       2020               SE              FT  Machine Learning Engineer   \n",
              "3691       2020               EN              FT  Machine Learning Engineer   \n",
              "3749       2020               SE              FT  Machine Learning Engineer   \n",
              "3693       2020               EN              FT  Machine Learning Engineer   \n",
              "3670       2021               SE              FT  Machine Learning Engineer   \n",
              "...         ...              ...             ...                        ...   \n",
              "1189       2023               SE              FT  Machine Learning Engineer   \n",
              "1183       2023               SE              FT  Machine Learning Engineer   \n",
              "1182       2023               SE              FT  Machine Learning Engineer   \n",
              "1038       2023               SE              FT  Machine Learning Engineer   \n",
              "1506       2023               SE              FT  Machine Learning Engineer   \n",
              "\n",
              "      salary salary_currency  salary_in_usd company_location company_size  \n",
              "3759   40000             EUR          45618               HR            S  \n",
              "3691  250000             USD         250000               US            L  \n",
              "3749  150000             USD         150000               US            L  \n",
              "3693  138000             USD         138000               US            S  \n",
              "3670  200000             USD         200000               US            L  \n",
              "...      ...             ...            ...              ...          ...  \n",
              "1189  204500             USD         204500               US            M  \n",
              "1183  142200             USD         142200               US            M  \n",
              "1182  204500             USD         204500               US            M  \n",
              "1038  161000             GBP         195652               GB            M  \n",
              "1506  184000             USD         184000               US            M  \n",
              "\n",
              "[291 rows x 9 columns]"
            ]
          },
          "execution_count": 5,
          "metadata": {},
          "output_type": "execute_result"
        }
      ],
      "source": [
        "machine_learning_engineers.sort_values(by='work_year')"
      ]
    },
    {
      "cell_type": "code",
      "execution_count": 6,
      "metadata": {
        "colab": {
          "base_uri": "https://localhost:8080/"
        },
        "id": "dmjVRJm-Pv30",
        "outputId": "50265dad-e7a1-4630-ec8b-3c9cbe1d176b"
      },
      "outputs": [
        {
          "name": "stdout",
          "output_type": "stream",
          "text": [
            "182114.20618556702 312348.780420957\n"
          ]
        }
      ],
      "source": [
        "mean = np.mean(machine_learning_engineers['salary'])\n",
        "stdev = np.std(machine_learning_engineers['salary'])\n",
        "print(mean, stdev)"
      ]
    },
    {
      "cell_type": "code",
      "execution_count": 7,
      "metadata": {
        "colab": {
          "base_uri": "https://localhost:8080/",
          "height": 300
        },
        "id": "Du_a6f21TD6_",
        "outputId": "c66d44ff-6e36-455f-dd36-d0ee4d09e91e"
      },
      "outputs": [
        {
          "data": {
            "text/html": [
              "<div>\n",
              "<style scoped>\n",
              "    .dataframe tbody tr th:only-of-type {\n",
              "        vertical-align: middle;\n",
              "    }\n",
              "\n",
              "    .dataframe tbody tr th {\n",
              "        vertical-align: top;\n",
              "    }\n",
              "\n",
              "    .dataframe thead th {\n",
              "        text-align: right;\n",
              "    }\n",
              "</style>\n",
              "<table border=\"1\" class=\"dataframe\">\n",
              "  <thead>\n",
              "    <tr style=\"text-align: right;\">\n",
              "      <th></th>\n",
              "      <th>work_year</th>\n",
              "      <th>salary</th>\n",
              "      <th>salary_in_usd</th>\n",
              "    </tr>\n",
              "  </thead>\n",
              "  <tbody>\n",
              "    <tr>\n",
              "      <th>count</th>\n",
              "      <td>291.000000</td>\n",
              "      <td>2.910000e+02</td>\n",
              "      <td>291.000000</td>\n",
              "    </tr>\n",
              "    <tr>\n",
              "      <th>mean</th>\n",
              "      <td>2022.453608</td>\n",
              "      <td>1.821142e+05</td>\n",
              "      <td>154778.075601</td>\n",
              "    </tr>\n",
              "    <tr>\n",
              "      <th>std</th>\n",
              "      <td>0.674981</td>\n",
              "      <td>3.128868e+05</td>\n",
              "      <td>62952.127655</td>\n",
              "    </tr>\n",
              "    <tr>\n",
              "      <th>min</th>\n",
              "      <td>2020.000000</td>\n",
              "      <td>1.200000e+04</td>\n",
              "      <td>12000.000000</td>\n",
              "    </tr>\n",
              "    <tr>\n",
              "      <th>25%</th>\n",
              "      <td>2022.000000</td>\n",
              "      <td>1.200000e+05</td>\n",
              "      <td>119500.000000</td>\n",
              "    </tr>\n",
              "    <tr>\n",
              "      <th>50%</th>\n",
              "      <td>2023.000000</td>\n",
              "      <td>1.500000e+05</td>\n",
              "      <td>150000.000000</td>\n",
              "    </tr>\n",
              "    <tr>\n",
              "      <th>75%</th>\n",
              "      <td>2023.000000</td>\n",
              "      <td>2.000000e+05</td>\n",
              "      <td>199500.000000</td>\n",
              "    </tr>\n",
              "    <tr>\n",
              "      <th>max</th>\n",
              "      <td>2023.000000</td>\n",
              "      <td>4.900000e+06</td>\n",
              "      <td>342300.000000</td>\n",
              "    </tr>\n",
              "  </tbody>\n",
              "</table>\n",
              "</div>"
            ],
            "text/plain": [
              "         work_year        salary  salary_in_usd\n",
              "count   291.000000  2.910000e+02     291.000000\n",
              "mean   2022.453608  1.821142e+05  154778.075601\n",
              "std       0.674981  3.128868e+05   62952.127655\n",
              "min    2020.000000  1.200000e+04   12000.000000\n",
              "25%    2022.000000  1.200000e+05  119500.000000\n",
              "50%    2023.000000  1.500000e+05  150000.000000\n",
              "75%    2023.000000  2.000000e+05  199500.000000\n",
              "max    2023.000000  4.900000e+06  342300.000000"
            ]
          },
          "execution_count": 7,
          "metadata": {},
          "output_type": "execute_result"
        }
      ],
      "source": [
        "machine_learning_engineers.describe()"
      ]
    },
    {
      "cell_type": "code",
      "execution_count": 8,
      "metadata": {
        "colab": {
          "base_uri": "https://localhost:8080/",
          "height": 470
        },
        "id": "B0rrvWbER_J9",
        "outputId": "d316b419-fca7-4fd0-9c41-56ffddf15102"
      },
      "outputs": [
        {
          "data": {
            "image/png": "[encoded data removed]",
            "text/plain": [
              "<Figure size 640x480 with 1 Axes>"
            ]
          },
          "metadata": {},
          "output_type": "display_data"
        }
      ],
      "source": [
        "machine_learning_engineers[['salary']].hist()\n",
        "plt.show()"
      ]
    },
    {
      "cell_type": "code",
      "execution_count": 9,
      "metadata": {
        "colab": {
          "base_uri": "https://localhost:8080/",
          "height": 451
        },
        "id": "RmgaOcDxV5dA",
        "outputId": "59789025-04f6-4ebc-add6-6e0ab0c12362"
      },
      "outputs": [
        {
          "data": {
            "text/plain": [
              "<Axes: >"
            ]
          },
          "execution_count": 9,
          "metadata": {},
          "output_type": "execute_result"
        },
        {
          "data": {
            "image/png": "[encoded data removed]",
            "text/plain": [
              "<Figure size 1500x1000 with 1 Axes>"
            ]
          },
          "metadata": {},
          "output_type": "display_data"
        }
      ],
      "source": [
        "machine_learning_engineers['salary_in_usd'].hist(figsize=(15, 10))"
      ]
    },
    {
      "cell_type": "code",
      "execution_count": 10,
      "metadata": {},
      "outputs": [],
      "source": [
        "sns.set_style('whitegrid')\n"
      ]
    },
    {
      "cell_type": "code",
      "execution_count": 11,
      "metadata": {
        "colab": {
          "base_uri": "https://localhost:8080/",
          "height": 701
        },
        "id": "iAzvM7KBS4Ui",
        "outputId": "d2990a3c-f72f-4df3-c2b7-17f7ad4aaccd"
      },
      "outputs": [
        {
          "name": "stderr",
          "output_type": "stream",
          "text": [
            "/var/folders/98/bqtm286x67nccq8djq5ty3pr0000gn/T/ipykernel_86218/2280391872.py:1: UserWarning: \n",
            "\n",
            "`distplot` is a deprecated function and will be removed in seaborn v0.14.0.\n",
            "\n",
            "Please adapt your code to use either `displot` (a figure-level function with\n",
            "similar flexibility) or `histplot` (an axes-level function for histograms).\n",
            "\n",
            "For a guide to updating your code to use the new functions, please see\n",
            "https://gist.github.com/mwaskom/de44147ed2974457ad6372750bbe5751\n",
            "\n",
            "  sns.distplot(machine_learning_engineers['salary_in_usd'], kde=True)\n",
            "/Users/yuriivoievidka/.pyenv/versions/3.10.6/envs/base_3.10.6/lib/python3.10/site-packages/seaborn/_oldcore.py:1498: FutureWarning: is_categorical_dtype is deprecated and will be removed in a future version. Use isinstance(dtype, CategoricalDtype) instead\n",
            "  if pd.api.types.is_categorical_dtype(vector):\n",
            "/Users/yuriivoievidka/.pyenv/versions/3.10.6/envs/base_3.10.6/lib/python3.10/site-packages/seaborn/_oldcore.py:1119: FutureWarning: use_inf_as_na option is deprecated and will be removed in a future version. Convert inf values to NaN before operating instead.\n",
            "  with pd.option_context('mode.use_inf_as_na', True):\n"
          ]
        },
        {
          "data": {
            "text/plain": [
              "Text(0, 0.5, 'Frequency')"
            ]
          },
          "execution_count": 11,
          "metadata": {},
          "output_type": "execute_result"
        },
        {
          "data": {
            "image/png": "[encoded data removed]",
            "text/plain": [
              "<Figure size 640x480 with 1 Axes>"
            ]
          },
          "metadata": {},
          "output_type": "display_data"
        }
      ],
      "source": [
        "sns.distplot(machine_learning_engineers['salary_in_usd'], kde=True)\n",
        "plt.title('Distribution of salaries of Machine Learning Engineers')\n",
        "plt.xlabel('Salary in USD')\n",
        "plt.ylabel('Frequency')"
      ]
    },
    {
      "cell_type": "code",
      "execution_count": 12,
      "metadata": {
        "colab": {
          "base_uri": "https://localhost:8080/",
          "height": 664
        },
        "id": "gy2qQLN_XsN1",
        "outputId": "9064afbc-1b7b-451a-ac82-5d7f71046cbe"
      },
      "outputs": [
        {
          "name": "stderr",
          "output_type": "stream",
          "text": [
            "/var/folders/98/bqtm286x67nccq8djq5ty3pr0000gn/T/ipykernel_86218/1940455437.py:1: UserWarning: \n",
            "\n",
            "`distplot` is a deprecated function and will be removed in seaborn v0.14.0.\n",
            "\n",
            "Please adapt your code to use either `displot` (a figure-level function with\n",
            "similar flexibility) or `histplot` (an axes-level function for histograms).\n",
            "\n",
            "For a guide to updating your code to use the new functions, please see\n",
            "https://gist.github.com/mwaskom/de44147ed2974457ad6372750bbe5751\n",
            "\n",
            "  sns.distplot(machine_learning_engineers['work_year'], kde=False)\n"
          ]
        },
        {
          "data": {
            "text/plain": [
              "<Axes: xlabel='work_year'>"
            ]
          },
          "execution_count": 12,
          "metadata": {},
          "output_type": "execute_result"
        },
        {
          "data": {
            "image/png": "[encoded data removed]",
            "text/plain": [
              "<Figure size 640x480 with 1 Axes>"
            ]
          },
          "metadata": {},
          "output_type": "display_data"
        }
      ],
      "source": [
        "sns.distplot(machine_learning_engineers['work_year'], kde=False)"
      ]
    },
    {
      "cell_type": "code",
      "execution_count": null,
      "metadata": {},
      "outputs": [],
      "source": []
    },
    {
      "cell_type": "code",
      "execution_count": 13,
      "metadata": {
        "colab": {
          "base_uri": "https://localhost:8080/",
          "height": 463
        },
        "id": "YRB28C8qYk8j",
        "outputId": "09dae3b4-b615-479c-b357-7cb3d0767d0a"
      },
      "outputs": [
        {
          "data": {
            "text/plain": [
              "<Axes: >"
            ]
          },
          "execution_count": 13,
          "metadata": {},
          "output_type": "execute_result"
        },
        {
          "data": {
            "image/png": "[encoded data removed]",
            "text/plain": [
              "<Figure size 2000x500 with 1 Axes>"
            ]
          },
          "metadata": {},
          "output_type": "display_data"
        }
      ],
      "source": [
        "machine_learning_engineers['company_location'].hist(figsize=(20, 5))\n"
      ]
    },
    {
      "cell_type": "code",
      "execution_count": 14,
      "metadata": {
        "id": "ZrVGo0JvY7BS"
      },
      "outputs": [
        {
          "data": {
            "text/html": [
              "<div>\n",
              "<style scoped>\n",
              "    .dataframe tbody tr th:only-of-type {\n",
              "        vertical-align: middle;\n",
              "    }\n",
              "\n",
              "    .dataframe tbody tr th {\n",
              "        vertical-align: top;\n",
              "    }\n",
              "\n",
              "    .dataframe thead th {\n",
              "        text-align: right;\n",
              "    }\n",
              "</style>\n",
              "<table border=\"1\" class=\"dataframe\">\n",
              "  <thead>\n",
              "    <tr style=\"text-align: right;\">\n",
              "      <th></th>\n",
              "      <th>work_year</th>\n",
              "      <th>salary</th>\n",
              "      <th>salary_in_usd</th>\n",
              "    </tr>\n",
              "  </thead>\n",
              "  <tbody>\n",
              "    <tr>\n",
              "      <th>count</th>\n",
              "      <td>291.000000</td>\n",
              "      <td>2.910000e+02</td>\n",
              "      <td>291.000000</td>\n",
              "    </tr>\n",
              "    <tr>\n",
              "      <th>mean</th>\n",
              "      <td>2022.453608</td>\n",
              "      <td>1.821142e+05</td>\n",
              "      <td>154778.075601</td>\n",
              "    </tr>\n",
              "    <tr>\n",
              "      <th>std</th>\n",
              "      <td>0.674981</td>\n",
              "      <td>3.128868e+05</td>\n",
              "      <td>62952.127655</td>\n",
              "    </tr>\n",
              "    <tr>\n",
              "      <th>min</th>\n",
              "      <td>2020.000000</td>\n",
              "      <td>1.200000e+04</td>\n",
              "      <td>12000.000000</td>\n",
              "    </tr>\n",
              "    <tr>\n",
              "      <th>25%</th>\n",
              "      <td>2022.000000</td>\n",
              "      <td>1.200000e+05</td>\n",
              "      <td>119500.000000</td>\n",
              "    </tr>\n",
              "    <tr>\n",
              "      <th>50%</th>\n",
              "      <td>2023.000000</td>\n",
              "      <td>1.500000e+05</td>\n",
              "      <td>150000.000000</td>\n",
              "    </tr>\n",
              "    <tr>\n",
              "      <th>75%</th>\n",
              "      <td>2023.000000</td>\n",
              "      <td>2.000000e+05</td>\n",
              "      <td>199500.000000</td>\n",
              "    </tr>\n",
              "    <tr>\n",
              "      <th>max</th>\n",
              "      <td>2023.000000</td>\n",
              "      <td>4.900000e+06</td>\n",
              "      <td>342300.000000</td>\n",
              "    </tr>\n",
              "  </tbody>\n",
              "</table>\n",
              "</div>"
            ],
            "text/plain": [
              "         work_year        salary  salary_in_usd\n",
              "count   291.000000  2.910000e+02     291.000000\n",
              "mean   2022.453608  1.821142e+05  154778.075601\n",
              "std       0.674981  3.128868e+05   62952.127655\n",
              "min    2020.000000  1.200000e+04   12000.000000\n",
              "25%    2022.000000  1.200000e+05  119500.000000\n",
              "50%    2023.000000  1.500000e+05  150000.000000\n",
              "75%    2023.000000  2.000000e+05  199500.000000\n",
              "max    2023.000000  4.900000e+06  342300.000000"
            ]
          },
          "execution_count": 14,
          "metadata": {},
          "output_type": "execute_result"
        }
      ],
      "source": [
        "machine_learning_engineers.describe()"
      ]
    },
    {
      "cell_type": "code",
      "execution_count": 15,
      "metadata": {},
      "outputs": [],
      "source": [
        "avg = 154778.075601\n",
        "std = 62952.127655\n",
        "num_reps = 500\n",
        "num_simulations = 1000"
      ]
    },
    {
      "cell_type": "code",
      "execution_count": 16,
      "metadata": {},
      "outputs": [
        {
          "name": "stderr",
          "output_type": "stream",
          "text": [
            "/Users/yuriivoievidka/.pyenv/versions/3.10.6/envs/base_3.10.6/lib/python3.10/site-packages/seaborn/_oldcore.py:1498: FutureWarning: is_categorical_dtype is deprecated and will be removed in a future version. Use isinstance(dtype, CategoricalDtype) instead\n",
            "  if pd.api.types.is_categorical_dtype(vector):\n",
            "/Users/yuriivoievidka/.pyenv/versions/3.10.6/envs/base_3.10.6/lib/python3.10/site-packages/seaborn/_oldcore.py:1119: FutureWarning: use_inf_as_na option is deprecated and will be removed in a future version. Convert inf values to NaN before operating instead.\n",
            "  with pd.option_context('mode.use_inf_as_na', True):\n",
            "/Users/yuriivoievidka/.pyenv/versions/3.10.6/envs/base_3.10.6/lib/python3.10/site-packages/seaborn/axisgrid.py:118: UserWarning: The figure layout has changed to tight\n",
            "  self._figure.tight_layout(*args, **kwargs)\n"
          ]
        },
        {
          "data": {
            "text/plain": [
              "<seaborn.axisgrid.FacetGrid at 0x16c54f880>"
            ]
          },
          "execution_count": 16,
          "metadata": {},
          "output_type": "execute_result"
        },
        {
          "data": {
            "image/png": "[encoded data removed]",
            "text/plain": [
              "<Figure size 500x500 with 1 Axes>"
            ]
          },
          "metadata": {},
          "output_type": "display_data"
        }
      ],
      "source": [
        "salaries = np.random.normal(avg, std, num_reps).round(2)\n",
        "sns.displot(salaries)"
      ]
    },
    {
      "cell_type": "code",
      "execution_count": 17,
      "metadata": {},
      "outputs": [
        {
          "data": {
            "text/plain": [
              "array([106695.48,  47155.38, 225828.54,  85655.14, 191752.69, 245775.98,\n",
              "       104643.33, 211489.07, 211703.73, 188118.69])"
            ]
          },
          "execution_count": 17,
          "metadata": {},
          "output_type": "execute_result"
        }
      ],
      "source": [
        "salaries[0:10]"
      ]
    },
    {
      "cell_type": "code",
      "execution_count": 18,
      "metadata": {},
      "outputs": [],
      "source": [
        "salaries_target_values = [75_000, 100_000, 200_000, 300_000, 400_000, 500_000]\n",
        "salaries_target_prob = [.3, .3, .2, .1, .05, .05]\n",
        "salaries_target = np.random.choice(salaries_target_values, num_reps, p=salaries_target_prob)"
      ]
    },
    {
      "cell_type": "code",
      "execution_count": 19,
      "metadata": {},
      "outputs": [],
      "source": [
        "all_stats = []\n",
        "\n",
        "\n",
        "for i in range(10):\n",
        "    salaries = np.random.normal(avg, std, num_reps)\n",
        "    \n",
        "    all_stats.append(salaries)\n",
        "    "
      ]
    },
    {
      "cell_type": "code",
      "execution_count": 20,
      "metadata": {},
      "outputs": [
        {
          "name": "stderr",
          "output_type": "stream",
          "text": [
            "/Users/yuriivoievidka/.pyenv/versions/3.10.6/envs/base_3.10.6/lib/python3.10/site-packages/seaborn/_oldcore.py:1498: FutureWarning: is_categorical_dtype is deprecated and will be removed in a future version. Use isinstance(dtype, CategoricalDtype) instead\n",
            "  if pd.api.types.is_categorical_dtype(vector):\n",
            "/Users/yuriivoievidka/.pyenv/versions/3.10.6/envs/base_3.10.6/lib/python3.10/site-packages/seaborn/_oldcore.py:1498: FutureWarning: is_categorical_dtype is deprecated and will be removed in a future version. Use isinstance(dtype, CategoricalDtype) instead\n",
            "  if pd.api.types.is_categorical_dtype(vector):\n",
            "/Users/yuriivoievidka/.pyenv/versions/3.10.6/envs/base_3.10.6/lib/python3.10/site-packages/seaborn/_oldcore.py:1498: FutureWarning: is_categorical_dtype is deprecated and will be removed in a future version. Use isinstance(dtype, CategoricalDtype) instead\n",
            "  if pd.api.types.is_categorical_dtype(vector):\n",
            "/Users/yuriivoievidka/.pyenv/versions/3.10.6/envs/base_3.10.6/lib/python3.10/site-packages/seaborn/_oldcore.py:1498: FutureWarning: is_categorical_dtype is deprecated and will be removed in a future version. Use isinstance(dtype, CategoricalDtype) instead\n",
            "  if pd.api.types.is_categorical_dtype(vector):\n",
            "/Users/yuriivoievidka/.pyenv/versions/3.10.6/envs/base_3.10.6/lib/python3.10/site-packages/seaborn/_oldcore.py:1498: FutureWarning: is_categorical_dtype is deprecated and will be removed in a future version. Use isinstance(dtype, CategoricalDtype) instead\n",
            "  if pd.api.types.is_categorical_dtype(vector):\n",
            "/Users/yuriivoievidka/.pyenv/versions/3.10.6/envs/base_3.10.6/lib/python3.10/site-packages/seaborn/_oldcore.py:1498: FutureWarning: is_categorical_dtype is deprecated and will be removed in a future version. Use isinstance(dtype, CategoricalDtype) instead\n",
            "  if pd.api.types.is_categorical_dtype(vector):\n",
            "/Users/yuriivoievidka/.pyenv/versions/3.10.6/envs/base_3.10.6/lib/python3.10/site-packages/seaborn/_oldcore.py:1498: FutureWarning: is_categorical_dtype is deprecated and will be removed in a future version. Use isinstance(dtype, CategoricalDtype) instead\n",
            "  if pd.api.types.is_categorical_dtype(vector):\n",
            "/Users/yuriivoievidka/.pyenv/versions/3.10.6/envs/base_3.10.6/lib/python3.10/site-packages/seaborn/_oldcore.py:1498: FutureWarning: is_categorical_dtype is deprecated and will be removed in a future version. Use isinstance(dtype, CategoricalDtype) instead\n",
            "  if pd.api.types.is_categorical_dtype(vector):\n",
            "/Users/yuriivoievidka/.pyenv/versions/3.10.6/envs/base_3.10.6/lib/python3.10/site-packages/seaborn/_oldcore.py:1498: FutureWarning: is_categorical_dtype is deprecated and will be removed in a future version. Use isinstance(dtype, CategoricalDtype) instead\n",
            "  if pd.api.types.is_categorical_dtype(vector):\n",
            "/Users/yuriivoievidka/.pyenv/versions/3.10.6/envs/base_3.10.6/lib/python3.10/site-packages/seaborn/_oldcore.py:1498: FutureWarning: is_categorical_dtype is deprecated and will be removed in a future version. Use isinstance(dtype, CategoricalDtype) instead\n",
            "  if pd.api.types.is_categorical_dtype(vector):\n",
            "/Users/yuriivoievidka/.pyenv/versions/3.10.6/envs/base_3.10.6/lib/python3.10/site-packages/seaborn/_oldcore.py:1498: FutureWarning: is_categorical_dtype is deprecated and will be removed in a future version. Use isinstance(dtype, CategoricalDtype) instead\n",
            "  if pd.api.types.is_categorical_dtype(vector):\n",
            "/Users/yuriivoievidka/.pyenv/versions/3.10.6/envs/base_3.10.6/lib/python3.10/site-packages/seaborn/_oldcore.py:1498: FutureWarning: is_categorical_dtype is deprecated and will be removed in a future version. Use isinstance(dtype, CategoricalDtype) instead\n",
            "  if pd.api.types.is_categorical_dtype(vector):\n",
            "/Users/yuriivoievidka/.pyenv/versions/3.10.6/envs/base_3.10.6/lib/python3.10/site-packages/seaborn/_oldcore.py:1498: FutureWarning: is_categorical_dtype is deprecated and will be removed in a future version. Use isinstance(dtype, CategoricalDtype) instead\n",
            "  if pd.api.types.is_categorical_dtype(vector):\n",
            "/Users/yuriivoievidka/.pyenv/versions/3.10.6/envs/base_3.10.6/lib/python3.10/site-packages/seaborn/_oldcore.py:1498: FutureWarning: is_categorical_dtype is deprecated and will be removed in a future version. Use isinstance(dtype, CategoricalDtype) instead\n",
            "  if pd.api.types.is_categorical_dtype(vector):\n",
            "/Users/yuriivoievidka/.pyenv/versions/3.10.6/envs/base_3.10.6/lib/python3.10/site-packages/seaborn/_oldcore.py:1119: FutureWarning: use_inf_as_na option is deprecated and will be removed in a future version. Convert inf values to NaN before operating instead.\n",
            "  with pd.option_context('mode.use_inf_as_na', True):\n",
            "/Users/yuriivoievidka/.pyenv/versions/3.10.6/envs/base_3.10.6/lib/python3.10/site-packages/seaborn/axisgrid.py:118: UserWarning: The figure layout has changed to tight\n",
            "  self._figure.tight_layout(*args, **kwargs)\n"
          ]
        },
        {
          "data": {
            "text/plain": [
              "<seaborn.axisgrid.FacetGrid at 0x16c849f90>"
            ]
          },
          "execution_count": 20,
          "metadata": {},
          "output_type": "execute_result"
        },
        {
          "data": {
            "image/png": "[encoded data removed]",
            "text/plain": [
              "<Figure size 557.75x500 with 1 Axes>"
            ]
          },
          "metadata": {},
          "output_type": "display_data"
        }
      ],
      "source": [
        "sns.displot(all_stats)"
      ]
    },
    {
      "cell_type": "code",
      "execution_count": 21,
      "metadata": {},
      "outputs": [],
      "source": [
        "result_df = pd.DataFrame()\n",
        "result_df['Salaries'] = all_stats"
      ]
    },
    {
      "cell_type": "code",
      "execution_count": 22,
      "metadata": {},
      "outputs": [
        {
          "data": {
            "text/plain": [
              "count                                                    10\n",
              "unique                                                   10\n",
              "top       [111822.57851089812, 189715.7753562387, -7283....\n",
              "freq                                                      1\n",
              "Name: Salaries, dtype: object"
            ]
          },
          "execution_count": 22,
          "metadata": {},
          "output_type": "execute_result"
        }
      ],
      "source": [
        "result_df['Salaries'].describe()"
      ]
    },
    {
      "cell_type": "code",
      "execution_count": 23,
      "metadata": {},
      "outputs": [
        {
          "data": {
            "text/plain": [
              "{'whiskers': [<matplotlib.lines.Line2D at 0x28a18d300>,\n",
              "  <matplotlib.lines.Line2D at 0x28a18d5a0>,\n",
              "  <matplotlib.lines.Line2D at 0x28a18e590>,\n",
              "  <matplotlib.lines.Line2D at 0x28a18e830>,\n",
              "  <matplotlib.lines.Line2D at 0x28a18f7f0>,\n",
              "  <matplotlib.lines.Line2D at 0x28a18fa90>,\n",
              "  <matplotlib.lines.Line2D at 0x28a1c8a90>,\n",
              "  <matplotlib.lines.Line2D at 0x28a1c8d30>,\n",
              "  <matplotlib.lines.Line2D at 0x28a1c9cf0>,\n",
              "  <matplotlib.lines.Line2D at 0x28a1c9f90>,\n",
              "  <matplotlib.lines.Line2D at 0x28a1caf50>,\n",
              "  <matplotlib.lines.Line2D at 0x28a1cb1f0>,\n",
              "  <matplotlib.lines.Line2D at 0x28a2081f0>,\n",
              "  <matplotlib.lines.Line2D at 0x28a208490>,\n",
              "  <matplotlib.lines.Line2D at 0x28a209450>,\n",
              "  <matplotlib.lines.Line2D at 0x28a2096f0>,\n",
              "  <matplotlib.lines.Line2D at 0x28a20a6b0>,\n",
              "  <matplotlib.lines.Line2D at 0x28a20a950>,\n",
              "  <matplotlib.lines.Line2D at 0x28a20b910>,\n",
              "  <matplotlib.lines.Line2D at 0x28a20bbb0>],\n",
              " 'caps': [<matplotlib.lines.Line2D at 0x28a18d840>,\n",
              "  <matplotlib.lines.Line2D at 0x28a18dae0>,\n",
              "  <matplotlib.lines.Line2D at 0x28a18ead0>,\n",
              "  <matplotlib.lines.Line2D at 0x28a18ed70>,\n",
              "  <matplotlib.lines.Line2D at 0x28a18fd30>,\n",
              "  <matplotlib.lines.Line2D at 0x28a18ffd0>,\n",
              "  <matplotlib.lines.Line2D at 0x28a1c8fd0>,\n",
              "  <matplotlib.lines.Line2D at 0x28a1c9270>,\n",
              "  <matplotlib.lines.Line2D at 0x28a1ca230>,\n",
              "  <matplotlib.lines.Line2D at 0x28a1ca4d0>,\n",
              "  <matplotlib.lines.Line2D at 0x28a1cb490>,\n",
              "  <matplotlib.lines.Line2D at 0x28a1cb730>,\n",
              "  <matplotlib.lines.Line2D at 0x28a208730>,\n",
              "  <matplotlib.lines.Line2D at 0x28a2089d0>,\n",
              "  <matplotlib.lines.Line2D at 0x28a209990>,\n",
              "  <matplotlib.lines.Line2D at 0x28a209c30>,\n",
              "  <matplotlib.lines.Line2D at 0x28a20abf0>,\n",
              "  <matplotlib.lines.Line2D at 0x28a20ae90>,\n",
              "  <matplotlib.lines.Line2D at 0x28a20be50>,\n",
              "  <matplotlib.lines.Line2D at 0x28a234130>],\n",
              " 'boxes': [<matplotlib.lines.Line2D at 0x16c54ea40>,\n",
              "  <matplotlib.lines.Line2D at 0x28a18e2f0>,\n",
              "  <matplotlib.lines.Line2D at 0x28a18f550>,\n",
              "  <matplotlib.lines.Line2D at 0x28a1c87f0>,\n",
              "  <matplotlib.lines.Line2D at 0x28a1c9a50>,\n",
              "  <matplotlib.lines.Line2D at 0x28a1cacb0>,\n",
              "  <matplotlib.lines.Line2D at 0x28a1cbf10>,\n",
              "  <matplotlib.lines.Line2D at 0x28a2091b0>,\n",
              "  <matplotlib.lines.Line2D at 0x28a20a410>,\n",
              "  <matplotlib.lines.Line2D at 0x28a20b670>],\n",
              " 'medians': [<matplotlib.lines.Line2D at 0x28a18dd80>,\n",
              "  <matplotlib.lines.Line2D at 0x28a18f010>,\n",
              "  <matplotlib.lines.Line2D at 0x28a1c82b0>,\n",
              "  <matplotlib.lines.Line2D at 0x28a1c9510>,\n",
              "  <matplotlib.lines.Line2D at 0x28a1ca770>,\n",
              "  <matplotlib.lines.Line2D at 0x28a1cb9d0>,\n",
              "  <matplotlib.lines.Line2D at 0x28a208c70>,\n",
              "  <matplotlib.lines.Line2D at 0x28a209ed0>,\n",
              "  <matplotlib.lines.Line2D at 0x28a20b130>,\n",
              "  <matplotlib.lines.Line2D at 0x28a2343d0>],\n",
              " 'fliers': [<matplotlib.lines.Line2D at 0x28a18e020>,\n",
              "  <matplotlib.lines.Line2D at 0x28a18f2b0>,\n",
              "  <matplotlib.lines.Line2D at 0x28a1c8550>,\n",
              "  <matplotlib.lines.Line2D at 0x28a1c97b0>,\n",
              "  <matplotlib.lines.Line2D at 0x28a1caa10>,\n",
              "  <matplotlib.lines.Line2D at 0x28a1cbc70>,\n",
              "  <matplotlib.lines.Line2D at 0x28a208f10>,\n",
              "  <matplotlib.lines.Line2D at 0x28a20a170>,\n",
              "  <matplotlib.lines.Line2D at 0x28a20b3d0>,\n",
              "  <matplotlib.lines.Line2D at 0x28a234670>],\n",
              " 'means': []}"
            ]
          },
          "execution_count": 23,
          "metadata": {},
          "output_type": "execute_result"
        },
        {
          "data": {
            "image/png": "[encoded data removed]",
            "text/plain": [
              "<Figure size 640x480 with 1 Axes>"
            ]
          },
          "metadata": {},
          "output_type": "display_data"
        }
      ],
      "source": [
        "plt.boxplot(result_df['Salaries'] )"
      ]
    },
    {
      "cell_type": "code",
      "execution_count": null,
      "metadata": {},
      "outputs": [],
      "source": []
    }
  ],
  "metadata": {
    "colab": {
      "provenance": []
    },
    "kernelspec": {
      "display_name": "Python 3",
      "name": "python3"
    },
    "language_info": {
      "codemirror_mode": {
        "name": "ipython",
        "version": 3
      },
      "file_extension": ".py",
      "mimetype": "text/x-python",
      "name": "python",
      "nbconvert_exporter": "python",
      "pygments_lexer": "ipython3",
      "version": "3.10.6"
    }
  },
  "nbformat": 4,
  "nbformat_minor": 0
}
